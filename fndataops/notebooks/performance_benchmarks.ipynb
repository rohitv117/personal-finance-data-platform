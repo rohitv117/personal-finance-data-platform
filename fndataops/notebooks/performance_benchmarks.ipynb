{
 "cells": [
  {
   "cell_type": "markdown",
   "id": "8e62acf5",
   "metadata": {},
   "source": [
    "# FinDataOps Performance Benchmarks\n",
    "\n",
    "This notebook benchmarks the performance of PostgreSQL vs DuckDB for analytical queries on the personal finance data platform.\n"
   ]
  },
  {
   "cell_type": "code",
   "execution_count": null,
   "id": "838d32c7",
   "metadata": {},
   "outputs": [],
   "source": [
    "import pandas as pd\n",
    "import numpy as np\n",
    "import time\n",
    "import matplotlib.pyplot as plt\n",
    "import seaborn as sns\n",
    "from sqlalchemy import create_engine, text\n",
    "import duckdb\n",
    "import psutil\n",
    "import json\n",
    "from datetime import datetime, timedelta\n",
    "import warnings\n",
    "warnings.filterwarnings('ignore')\n",
    "\n",
    "# Set style\n",
    "plt.style.use('seaborn-v0_8')\n",
    "sns.set_palette(\"husl\")\n"
   ]
  }
 ],
 "metadata": {
  "language_info": {
   "name": "python"
  }
 },
 "nbformat": 4,
 "nbformat_minor": 5
}
